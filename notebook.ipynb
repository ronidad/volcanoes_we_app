{
 "cells": [
  {
   "cell_type": "code",
   "execution_count": 4,
   "source": [
    "#This is helping me run instantly and creat files (outputs)\r\n",
    "\r\n",
    "import pandas as pd"
   ],
   "outputs": [],
   "metadata": {}
  },
  {
   "cell_type": "code",
   "execution_count": 18,
   "source": [
    "\r\n",
    "data = pd.read_csv(\"volcanoes.txt\")\r\n",
    "data.LAT"
   ],
   "outputs": [
    {
     "output_type": "execute_result",
     "data": {
      "text/plain": [
       "0     48.776798\n",
       "1     48.111801\n",
       "2     46.869801\n",
       "3     46.199799\n",
       "4     46.205799\n",
       "        ...    \n",
       "57    35.869999\n",
       "58    35.369999\n",
       "59    34.549999\n",
       "60    34.799999\n",
       "61    33.780102\n",
       "Name: LAT, Length: 62, dtype: float64"
      ]
     },
     "metadata": {},
     "execution_count": 18
    }
   ],
   "metadata": {}
  },
  {
   "cell_type": "code",
   "execution_count": 22,
   "source": [
    "data.to_json(\"volcanoes_data.json\", orient=\"columns\")\r\n"
   ],
   "outputs": [],
   "metadata": {}
  },
  {
   "cell_type": "code",
   "execution_count": null,
   "source": [],
   "outputs": [],
   "metadata": {}
  }
 ],
 "metadata": {
  "orig_nbformat": 4,
  "language_info": {
   "name": "python",
   "version": "3.8.5",
   "mimetype": "text/x-python",
   "codemirror_mode": {
    "name": "ipython",
    "version": 3
   },
   "pygments_lexer": "ipython3",
   "nbconvert_exporter": "python",
   "file_extension": ".py"
  },
  "kernelspec": {
   "name": "python3",
   "display_name": "Python 3.8.5 64-bit ('base': conda)"
  },
  "interpreter": {
   "hash": "8e24f623c9d976e65e43b538ecbbc4d478524c94015e92b14b460358aba5245a"
  }
 },
 "nbformat": 4,
 "nbformat_minor": 2
}